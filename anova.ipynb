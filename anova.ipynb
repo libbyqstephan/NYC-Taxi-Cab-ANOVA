{
  "nbformat": 4,
  "nbformat_minor": 0,
  "metadata": {
    "colab": {
      "provenance": []
    },
    "kernelspec": {
      "name": "python3",
      "display_name": "Python 3"
    },
    "language_info": {
      "name": "python"
    }
  },
  "cells": [
    {
      "cell_type": "code",
      "execution_count": 1,
      "metadata": {
        "colab": {
          "base_uri": "https://localhost:8080/",
          "height": 74
        },
        "id": "nNXmi08vnRv3",
        "outputId": "4f85698e-5481-4935-fdb5-287d9da7e9a9"
      },
      "outputs": [
        {
          "output_type": "display_data",
          "data": {
            "text/plain": [
              "<IPython.core.display.HTML object>"
            ],
            "text/html": [
              "\n",
              "     <input type=\"file\" id=\"files-f5634aa0-e95d-404e-b7a7-a8b8a5ee3ecf\" name=\"files[]\" multiple disabled\n",
              "        style=\"border:none\" />\n",
              "     <output id=\"result-f5634aa0-e95d-404e-b7a7-a8b8a5ee3ecf\">\n",
              "      Upload widget is only available when the cell has been executed in the\n",
              "      current browser session. Please rerun this cell to enable.\n",
              "      </output>\n",
              "      <script>// Copyright 2017 Google LLC\n",
              "//\n",
              "// Licensed under the Apache License, Version 2.0 (the \"License\");\n",
              "// you may not use this file except in compliance with the License.\n",
              "// You may obtain a copy of the License at\n",
              "//\n",
              "//      http://www.apache.org/licenses/LICENSE-2.0\n",
              "//\n",
              "// Unless required by applicable law or agreed to in writing, software\n",
              "// distributed under the License is distributed on an \"AS IS\" BASIS,\n",
              "// WITHOUT WARRANTIES OR CONDITIONS OF ANY KIND, either express or implied.\n",
              "// See the License for the specific language governing permissions and\n",
              "// limitations under the License.\n",
              "\n",
              "/**\n",
              " * @fileoverview Helpers for google.colab Python module.\n",
              " */\n",
              "(function(scope) {\n",
              "function span(text, styleAttributes = {}) {\n",
              "  const element = document.createElement('span');\n",
              "  element.textContent = text;\n",
              "  for (const key of Object.keys(styleAttributes)) {\n",
              "    element.style[key] = styleAttributes[key];\n",
              "  }\n",
              "  return element;\n",
              "}\n",
              "\n",
              "// Max number of bytes which will be uploaded at a time.\n",
              "const MAX_PAYLOAD_SIZE = 100 * 1024;\n",
              "\n",
              "function _uploadFiles(inputId, outputId) {\n",
              "  const steps = uploadFilesStep(inputId, outputId);\n",
              "  const outputElement = document.getElementById(outputId);\n",
              "  // Cache steps on the outputElement to make it available for the next call\n",
              "  // to uploadFilesContinue from Python.\n",
              "  outputElement.steps = steps;\n",
              "\n",
              "  return _uploadFilesContinue(outputId);\n",
              "}\n",
              "\n",
              "// This is roughly an async generator (not supported in the browser yet),\n",
              "// where there are multiple asynchronous steps and the Python side is going\n",
              "// to poll for completion of each step.\n",
              "// This uses a Promise to block the python side on completion of each step,\n",
              "// then passes the result of the previous step as the input to the next step.\n",
              "function _uploadFilesContinue(outputId) {\n",
              "  const outputElement = document.getElementById(outputId);\n",
              "  const steps = outputElement.steps;\n",
              "\n",
              "  const next = steps.next(outputElement.lastPromiseValue);\n",
              "  return Promise.resolve(next.value.promise).then((value) => {\n",
              "    // Cache the last promise value to make it available to the next\n",
              "    // step of the generator.\n",
              "    outputElement.lastPromiseValue = value;\n",
              "    return next.value.response;\n",
              "  });\n",
              "}\n",
              "\n",
              "/**\n",
              " * Generator function which is called between each async step of the upload\n",
              " * process.\n",
              " * @param {string} inputId Element ID of the input file picker element.\n",
              " * @param {string} outputId Element ID of the output display.\n",
              " * @return {!Iterable<!Object>} Iterable of next steps.\n",
              " */\n",
              "function* uploadFilesStep(inputId, outputId) {\n",
              "  const inputElement = document.getElementById(inputId);\n",
              "  inputElement.disabled = false;\n",
              "\n",
              "  const outputElement = document.getElementById(outputId);\n",
              "  outputElement.innerHTML = '';\n",
              "\n",
              "  const pickedPromise = new Promise((resolve) => {\n",
              "    inputElement.addEventListener('change', (e) => {\n",
              "      resolve(e.target.files);\n",
              "    });\n",
              "  });\n",
              "\n",
              "  const cancel = document.createElement('button');\n",
              "  inputElement.parentElement.appendChild(cancel);\n",
              "  cancel.textContent = 'Cancel upload';\n",
              "  const cancelPromise = new Promise((resolve) => {\n",
              "    cancel.onclick = () => {\n",
              "      resolve(null);\n",
              "    };\n",
              "  });\n",
              "\n",
              "  // Wait for the user to pick the files.\n",
              "  const files = yield {\n",
              "    promise: Promise.race([pickedPromise, cancelPromise]),\n",
              "    response: {\n",
              "      action: 'starting',\n",
              "    }\n",
              "  };\n",
              "\n",
              "  cancel.remove();\n",
              "\n",
              "  // Disable the input element since further picks are not allowed.\n",
              "  inputElement.disabled = true;\n",
              "\n",
              "  if (!files) {\n",
              "    return {\n",
              "      response: {\n",
              "        action: 'complete',\n",
              "      }\n",
              "    };\n",
              "  }\n",
              "\n",
              "  for (const file of files) {\n",
              "    const li = document.createElement('li');\n",
              "    li.append(span(file.name, {fontWeight: 'bold'}));\n",
              "    li.append(span(\n",
              "        `(${file.type || 'n/a'}) - ${file.size} bytes, ` +\n",
              "        `last modified: ${\n",
              "            file.lastModifiedDate ? file.lastModifiedDate.toLocaleDateString() :\n",
              "                                    'n/a'} - `));\n",
              "    const percent = span('0% done');\n",
              "    li.appendChild(percent);\n",
              "\n",
              "    outputElement.appendChild(li);\n",
              "\n",
              "    const fileDataPromise = new Promise((resolve) => {\n",
              "      const reader = new FileReader();\n",
              "      reader.onload = (e) => {\n",
              "        resolve(e.target.result);\n",
              "      };\n",
              "      reader.readAsArrayBuffer(file);\n",
              "    });\n",
              "    // Wait for the data to be ready.\n",
              "    let fileData = yield {\n",
              "      promise: fileDataPromise,\n",
              "      response: {\n",
              "        action: 'continue',\n",
              "      }\n",
              "    };\n",
              "\n",
              "    // Use a chunked sending to avoid message size limits. See b/62115660.\n",
              "    let position = 0;\n",
              "    do {\n",
              "      const length = Math.min(fileData.byteLength - position, MAX_PAYLOAD_SIZE);\n",
              "      const chunk = new Uint8Array(fileData, position, length);\n",
              "      position += length;\n",
              "\n",
              "      const base64 = btoa(String.fromCharCode.apply(null, chunk));\n",
              "      yield {\n",
              "        response: {\n",
              "          action: 'append',\n",
              "          file: file.name,\n",
              "          data: base64,\n",
              "        },\n",
              "      };\n",
              "\n",
              "      let percentDone = fileData.byteLength === 0 ?\n",
              "          100 :\n",
              "          Math.round((position / fileData.byteLength) * 100);\n",
              "      percent.textContent = `${percentDone}% done`;\n",
              "\n",
              "    } while (position < fileData.byteLength);\n",
              "  }\n",
              "\n",
              "  // All done.\n",
              "  yield {\n",
              "    response: {\n",
              "      action: 'complete',\n",
              "    }\n",
              "  };\n",
              "}\n",
              "\n",
              "scope.google = scope.google || {};\n",
              "scope.google.colab = scope.google.colab || {};\n",
              "scope.google.colab._files = {\n",
              "  _uploadFiles,\n",
              "  _uploadFilesContinue,\n",
              "};\n",
              "})(self);\n",
              "</script> "
            ]
          },
          "metadata": {}
        },
        {
          "output_type": "stream",
          "name": "stdout",
          "text": [
            "Saving TaxiDataCleaned.csv to TaxiDataCleaned.csv\n"
          ]
        }
      ],
      "source": [
        "from google.colab import files\n",
        "uploaded = files.upload()"
      ]
    },
    {
      "cell_type": "code",
      "source": [
        "import pandas as pd\n",
        "import io\n",
        "import datetime\n",
        "\n",
        "# read in clean data file\n",
        "df = pd.read_csv(io.StringIO(uploaded['TaxiDataCleaned.csv'].decode('utf-8')))\n",
        "\n",
        "# convert to datetime type\n",
        "df['tpep_pickup_datetime'] = pd.to_datetime(df['tpep_pickup_datetime'], errors='coerce')\n",
        "df['tpep_dropoff_datetime'] = pd.to_datetime(df['tpep_dropoff_datetime'], errors='coerce')"
      ],
      "metadata": {
        "id": "6LeT9mnHnuI7"
      },
      "execution_count": 2,
      "outputs": []
    },
    {
      "cell_type": "markdown",
      "source": [
        "# ANOVA Testing"
      ],
      "metadata": {
        "id": "6HHr95peFRdS"
      }
    },
    {
      "cell_type": "code",
      "source": [
        "!pip install pingouin"
      ],
      "metadata": {
        "id": "hFDQVE6N5bp1"
      },
      "execution_count": null,
      "outputs": []
    },
    {
      "cell_type": "code",
      "source": [
        "# libraries requried\n",
        "import seaborn as sns\n",
        "from scipy.stats import shapiro, levene\n",
        "import pingouin as pg\n",
        "from scipy.stats import f_oneway\n",
        "from statsmodels.stats.multicomp import pairwise_tukeyhsd\n",
        "import matplotlib.pyplot as plt\n",
        "import numpy as np\n",
        "import random\n",
        "import pandas as pd"
      ],
      "metadata": {
        "id": "N827u9V6F9ko"
      },
      "execution_count": 4,
      "outputs": []
    },
    {
      "cell_type": "code",
      "source": [
        "#************************** ADDING COLUMNS FOR ANALYSIS **************************\n",
        "\n",
        "# add new column for the year\n",
        "df['year'] = df['tpep_pickup_datetime'].dt.year\n",
        "\n",
        "# helper function to label passenger count as single or multiple\n",
        "def label_passengers(row):\n",
        "  if row['passenger_count'] == 1:\n",
        "    return 'Single'\n",
        "  if row['passenger_count'] > 1:\n",
        "    return 'Multiple'\n",
        "\n",
        "# add new column for single (1) or multiple (2+) passengers\n",
        "df['passenger_multiple'] = df.apply(label_passengers, axis=1)\n",
        "\n",
        "# list of all possible years\n",
        "all_years = df['tpep_pickup_datetime'].dt.year.unique()\n",
        "all_years.sort()\n",
        "\n",
        "# list of all possible seasons\n",
        "all_seasons = ['Winter', 'Spring', 'Summer', 'Fall']\n",
        "\n",
        "# list of all possible passenger_multiple values\n",
        "all_passengers = ['Single', 'Multiple']"
      ],
      "metadata": {
        "id": "I9ht5UnwFXEm"
      },
      "execution_count": 5,
      "outputs": []
    },
    {
      "cell_type": "code",
      "source": [
        "df"
      ],
      "metadata": {
        "id": "lbR8-Jh6evMZ"
      },
      "execution_count": null,
      "outputs": []
    },
    {
      "cell_type": "code",
      "source": [
        "#************************** ENOUGH SAMPLES EXIST IN EACH GROUP? **************************\n",
        "\n",
        "# sample size in each year\n",
        "for year in all_years:\n",
        "  print(f\"Number of samples for {year}: {len(df.loc[df['year'] == year])}\")\n",
        "print('\\n')\n",
        "\n",
        "# sample size in each season\n",
        "for season in all_seasons:\n",
        "  print(f\"Number of samples for {season}: {len(df.loc[df['season'] == season])}\")\n",
        "print('\\n')\n",
        "\n",
        "# sample size in each passenger group (single vs multiple)\n",
        "print(f\"Number of samples for single passenger: {len(df.loc[df['passenger_multiple'] == 'Single'])}\")\n",
        "print(f\"Number of samples for multiple passengers: {len(df.loc[df['passenger_multiple'] == 'Multiple'])}\")\n",
        "print('\\n')"
      ],
      "metadata": {
        "colab": {
          "base_uri": "https://localhost:8080/"
        },
        "id": "6J4648oBeRMD",
        "outputId": "6fe53c7b-0521-4dae-81b8-9cd9be150cef"
      },
      "execution_count": 6,
      "outputs": [
        {
          "output_type": "stream",
          "name": "stdout",
          "text": [
            "Number of samples for 2009: 12000\n",
            "Number of samples for 2011: 12000\n",
            "Number of samples for 2019: 11940\n",
            "Number of samples for 2020: 11145\n",
            "Number of samples for 2023: 11578\n",
            "\n",
            "\n",
            "Number of samples for Winter: 14801\n",
            "Number of samples for Spring: 14625\n",
            "Number of samples for Summer: 14631\n",
            "Number of samples for Fall: 14606\n",
            "\n",
            "\n",
            "Number of samples for single passenger: 41843\n",
            "Number of samples for multiple passengers: 16009\n",
            "\n",
            "\n"
          ]
        }
      ]
    },
    {
      "cell_type": "markdown",
      "source": [
        "Enough samples exist in each group for sufficient bootstrapping."
      ],
      "metadata": {
        "id": "vB78z-30Jjyc"
      }
    },
    {
      "cell_type": "code",
      "source": [
        "#************************** BOOTSTRAPPING SAMPLES **************************\n",
        "\n",
        "# perform bootstrap sampling to invoke central limit theorm\n",
        "# (assumes normal distribution of sample means of n>=30)\n",
        "# ANOVA needs normal assumption of data\n",
        "\n",
        "# each bootstrap sample will have a mean of 50 instances in given category\n",
        "# 100 boot strap samples in each category\n",
        "\n",
        "# takes a list of all possible attribute values (categorical) and the attribute name (string)\n",
        "# returns a dataframe of all bootstrapped samples for that particular attribute\n",
        "def bootstrap(att_values: list, att_name: str):\n",
        "  np.random.seed(1) # for reproduceability\n",
        "  boot = []\n",
        "  for value in att_values:\n",
        "    for i in range(100):\n",
        "      # get 50 samples (with replacement) from the same year\n",
        "      boot_samp = df[df[att_name] == value].sample(n=50, replace = True)\n",
        "      boot_samp = boot_samp[['tip_percentage', 'trip_distance']]\n",
        "      # get mean of 50 samples to create a bootstrap sample\n",
        "      boot_samp = boot_samp.mean().to_frame().transpose()\n",
        "      boot_samp[att_name] = value\n",
        "      # add bootstrap sample to new dataframe\n",
        "      boot.append(boot_samp)\n",
        "  return pd.concat(boot, ignore_index=True) # list of dfs to single df\n",
        "\n",
        "boot_year = bootstrap(all_years, 'year')\n",
        "boot_season = bootstrap(all_seasons, 'season')\n",
        "boot_passenger = bootstrap(all_passengers, 'passenger_multiple')"
      ],
      "metadata": {
        "id": "Mea7IBstcD8x"
      },
      "execution_count": 7,
      "outputs": []
    },
    {
      "cell_type": "code",
      "source": [
        "#************************** WHY BOOTSTRAP? **************************\n",
        "\n",
        "# Without bootstrapping, normality and equal variance assumptions for ANOVA are not met\n",
        "# Below is proof of the failure to meet these assumption with tip_percentage~year as the example\n",
        "\n",
        "for year in all_years:\n",
        "    residuals = df.loc[df['year'] == year, 'tip_percentage']\n",
        "    stat, p = shapiro(residuals)\n",
        "    if p <= 0.05:\n",
        "      print(f\"Shapiro-Wilk test for {year}: p-value = {p} - NOT NORMAL DISTRIBUTION\")\n",
        "    else:\n",
        "      print(f\"Shapiro-Wilk test for {year}: p-value = {p} - NORMAL DISTRIBUTION\")\n",
        "print('\\n')\n",
        "\n",
        "# check equal variance\n",
        "stat, p = levene(df.loc[df['year'] == 2009, 'tip_percentage'],\n",
        "                 df.loc[df['year'] == 2011, 'tip_percentage'],\n",
        "                 df.loc[df['year'] == 2019, 'tip_percentage'],\n",
        "                 df.loc[df['year'] == 2020, 'tip_percentage'],\n",
        "                 df.loc[df['year'] == 2023, 'tip_percentage'])\n",
        "if p <= 0.05:\n",
        "  print(f\"Levene's test: p-value = {p} - NOT EQUAL VARIANCE\")\n",
        "else:\n",
        "  print(f\"Levene's test: p-value = {p} - EQUAL VARIANCE\")"
      ],
      "metadata": {
        "colab": {
          "base_uri": "https://localhost:8080/"
        },
        "id": "I1dowA6ItaOU",
        "outputId": "461ae190-9dab-4c9d-9fd3-3dffdd3f270c"
      },
      "execution_count": 8,
      "outputs": [
        {
          "output_type": "stream",
          "name": "stdout",
          "text": [
            "Shapiro-Wilk test for 2009: p-value = 0.0 - NOT NORMAL DISTRIBUTION\n",
            "Shapiro-Wilk test for 2011: p-value = 0.0 - NOT NORMAL DISTRIBUTION\n",
            "Shapiro-Wilk test for 2019: p-value = 0.0 - NOT NORMAL DISTRIBUTION\n",
            "Shapiro-Wilk test for 2020: p-value = 0.0 - NOT NORMAL DISTRIBUTION\n",
            "Shapiro-Wilk test for 2023: p-value = 0.0 - NOT NORMAL DISTRIBUTION\n",
            "\n",
            "\n",
            "Levene's test: p-value = 1.7455092808250402e-59 - NOT EQUAL VARIANCE\n"
          ]
        },
        {
          "output_type": "stream",
          "name": "stderr",
          "text": [
            "/usr/local/lib/python3.10/dist-packages/scipy/stats/_morestats.py:1882: UserWarning: p-value may not be accurate for N > 5000.\n",
            "  warnings.warn(\"p-value may not be accurate for N > 5000.\")\n"
          ]
        }
      ]
    },
    {
      "cell_type": "code",
      "source": [
        "#************************** HELPER FUNCTIONS FOR ANOVA **************************\n",
        "\n",
        "# used specifically for levene's test and one-way anova to reduce repetitive code\n",
        "# takes in attribute name (string), returns list needed for levene and anova argument\n",
        "def year_input(boot_year, attribute):\n",
        "  input = [boot_year.loc[boot_year['year'] == 2009, attribute],\n",
        "           boot_year.loc[boot_year['year'] == 2011, attribute],\n",
        "           boot_year.loc[boot_year['year'] == 2019, attribute],\n",
        "           boot_year.loc[boot_year['year'] == 2020, attribute],\n",
        "           boot_year.loc[boot_year['year'] == 2023, attribute]]\n",
        "  return input\n",
        "\n",
        "def season_input(boot_season, attribute):\n",
        "  input = [boot_season.loc[boot_season['season'] == 'Winter', attribute],\n",
        "           boot_season.loc[boot_season['season'] == 'Spring', attribute],\n",
        "           boot_season.loc[boot_season['season'] == 'Summer', attribute],\n",
        "           boot_season.loc[boot_season['season'] == 'Fall', attribute]]\n",
        "  return input\n",
        "\n",
        "def passenger_input(boot_passenger, attribute):\n",
        "  input = [boot_passenger.loc[boot_passenger['passenger_multiple'] == 'Single', attribute],\n",
        "           boot_passenger.loc[boot_passenger['passenger_multiple'] == 'Multiple', attribute]]\n",
        "  return input\n",
        "\n",
        "# takes in list of all possible attribute values of the categorical variable,\n",
        "# boot_att a dataframe of one of the bootstraps\n",
        "# categ_att, categorical attribute to group by (string)\n",
        "# attribute, numerical attribute of interest (string)\n",
        "def anova_prep(att_values: list, boot_att: pd.DataFrame, categ_att: str, attribute: str):\n",
        "\n",
        "  #-----Preliminary Look at Difference-----\n",
        "\n",
        "  # determine difference in tip_percentage across all years\n",
        "  for val in att_values:\n",
        "    print(f\"Average {attribute} for {val}: {boot_att.loc[boot_att[categ_att] == val, attribute].mean()}\")\n",
        "  print('\\n')\n",
        "\n",
        "  plt.figure()\n",
        "  # create grouped boxplot to visualize distribution\n",
        "  title_name = 'Bootstrapped Distrubution of ' + attribute + ' Grouped by ' + categ_att\n",
        "  sns.boxplot(x = boot_att[categ_att],\n",
        "              y = boot_att[attribute])\n",
        "  plt.title(title_name)\n",
        "\n",
        "  #-----Check Assumptions of ANOVA-----\n",
        "\n",
        "  # check normality\n",
        "  for val in att_values:\n",
        "      residuals = boot_att.loc[boot_att[categ_att] == val, attribute]\n",
        "      stat, p = shapiro(residuals)\n",
        "      if p <= 0.05:\n",
        "        print(f\"Shapiro-Wilk test for {val}: p-value = {p} - NOT NORMAL DISTRIBUTION\")\n",
        "      else:\n",
        "        print(f\"Shapiro-Wilk test for {val}: p-value = {p} - NORMAL DISTRIBUTION\")\n",
        "  print('\\n')\n",
        "\n",
        "  # check equal variance\n",
        "  if categ_att == 'year':\n",
        "    stat, p = levene(*year_input(boot_att, attribute))\n",
        "  elif categ_att == 'season':\n",
        "    stat, p = levene(*season_input(boot_att, attribute))\n",
        "  elif categ_att == 'passenger_multiple':\n",
        "    stat, p = levene(*passenger_input(boot_att, attribute))\n",
        "  else:\n",
        "    print('attribute does not exist')\n",
        "  if p <= 0.05:\n",
        "    print(f\"Levene's test: p-value = {p} - NOT EQUAL VARIANCE\")\n",
        "  else:\n",
        "    print(f\"Levene's test: p-value = {p} - EQUAL VARIANCE\")\n",
        "  return\n",
        "\n",
        "def anova(boot_att: pd.DataFrame, categ_att: str, attribute: str):\n",
        "\n",
        "  #-----Perform One-Way ANOVA-----\n",
        "\n",
        "  if categ_att == 'year':\n",
        "    anova = f_oneway(*year_input(boot_att, attribute))\n",
        "  elif categ_att == 'season':\n",
        "    anova = f_oneway(*season_input(boot_att, attribute))\n",
        "  elif categ_att == 'passenger_multiple':\n",
        "    anova = f_oneway(*passenger_input(boot_att, attribute))\n",
        "  else:\n",
        "    print('attribute does not exist')\n",
        "  print(f\"The p-value for this ANOVA is: {anova.pvalue}\")\n",
        "\n",
        "  #-----Perform Tukey's Test-----\n",
        "\n",
        "  if anova.pvalue < 0.05:\n",
        "    print(\"REJECT null hypothesis \\n\")\n",
        "    print(\"Post hoc testing: Tukey\")\n",
        "    tukey = pairwise_tukeyhsd(endog=boot_att[attribute],\n",
        "                              groups=boot_att[categ_att],\n",
        "                              alpha=0.05)\n",
        "    print(tukey)\n",
        "  else:\n",
        "    pass\n",
        "\n",
        "  return"
      ],
      "metadata": {
        "id": "j6lLOXqQ3twq"
      },
      "execution_count": 13,
      "outputs": []
    },
    {
      "cell_type": "code",
      "source": [
        "#************************** PERFORMING ANOVA **************************\n",
        "\n",
        "print(f\"-----Comparing mean tip percentage between different years-----\")\n",
        "anova_prep(all_years, boot_year, 'year','tip_percentage')"
      ],
      "metadata": {
        "id": "kTRMMLKW66MN",
        "colab": {
          "base_uri": "https://localhost:8080/",
          "height": 758
        },
        "outputId": "8c9b55ee-7e3e-49a2-e6c8-7c6cb443f3a3"
      },
      "execution_count": 14,
      "outputs": [
        {
          "output_type": "stream",
          "name": "stdout",
          "text": [
            "-----Comparing mean tip percentage between different years-----\n",
            "Average tip_percentage for 2009: 6.226487618425438\n",
            "Average tip_percentage for 2011: 9.047961677603874\n",
            "Average tip_percentage for 2019: 18.030995672432045\n",
            "Average tip_percentage for 2020: 18.300698842611485\n",
            "Average tip_percentage for 2023: 20.019517636248693\n",
            "\n",
            "\n",
            "Shapiro-Wilk test for 2009: p-value = 1.861941372645625e-18 - NOT NORMAL DISTRIBUTION\n",
            "Shapiro-Wilk test for 2011: p-value = 0.07309791445732117 - NORMAL DISTRIBUTION\n",
            "Shapiro-Wilk test for 2019: p-value = 0.7043770551681519 - NORMAL DISTRIBUTION\n",
            "Shapiro-Wilk test for 2020: p-value = 0.8271341919898987 - NORMAL DISTRIBUTION\n",
            "Shapiro-Wilk test for 2023: p-value = 0.8239449858665466 - NORMAL DISTRIBUTION\n",
            "\n",
            "\n",
            "Levene's test: p-value = 0.5728249821491019 - EQUAL VARIANCE\n"
          ]
        },
        {
          "output_type": "display_data",
          "data": {
            "text/plain": [
              "<Figure size 640x480 with 1 Axes>"
            ],
            "image/png": "[encoded data removed]"
          },
          "metadata": {}
        }
      ]
    },
    {
      "cell_type": "code",
      "source": [
        "anova(boot_year,'year', 'tip_percentage')"
      ],
      "metadata": {
        "id": "hDeAb63y9uyw",
        "colab": {
          "base_uri": "https://localhost:8080/"
        },
        "outputId": "9f2752a1-1fb5-4cd9-db1d-2f8c1203fa0b"
      },
      "execution_count": null,
      "outputs": [
        {
          "output_type": "stream",
          "name": "stdout",
          "text": [
            "The p-value for this ANOVA is: 3.4926899105436916e-157\n",
            "REJECT null hypothesis \n",
            "\n",
            "Post hoc testing: Tukey\n",
            "Multiple Comparison of Means - Tukey HSD, FWER=0.05 \n",
            "====================================================\n",
            "group1 group2 meandiff p-adj   lower   upper  reject\n",
            "----------------------------------------------------\n",
            "  2009   2011   2.8215    0.0  1.6413  4.0017   True\n",
            "  2009   2019  11.8045    0.0 10.6243 12.9847   True\n",
            "  2009   2020  12.0742    0.0  10.894 13.2544   True\n",
            "  2009   2023   13.793    0.0 12.6128 14.9732   True\n",
            "  2011   2019    8.983    0.0  7.8028 10.1632   True\n",
            "  2011   2020   9.2527    0.0  8.0725 10.4329   True\n",
            "  2011   2023  10.9716    0.0  9.7914 12.1518   True\n",
            "  2019   2020   0.2697 0.9709 -0.9105  1.4499  False\n",
            "  2019   2023   1.9885    0.0  0.8083  3.1687   True\n",
            "  2020   2023   1.7188 0.0007  0.5386   2.899   True\n",
            "----------------------------------------------------\n"
          ]
        }
      ]
    },
    {
      "cell_type": "markdown",
      "source": [
        "Results for tip_percentage~year are that all differences in mean of means are significant except between years 2019 and 2020. (plus exluding any pairs involving 2009 since it is not normally distributed)"
      ],
      "metadata": {
        "id": "2B6tWbiawGKE"
      }
    },
    {
      "cell_type": "code",
      "source": [
        "print(f\"-----Comparing mean trip distance between different years-----\")\n",
        "anova_prep(all_years, boot_year, 'year','trip_distance')"
      ],
      "metadata": {
        "id": "usOdBIuZJa5X",
        "colab": {
          "base_uri": "https://localhost:8080/",
          "height": 758
        },
        "outputId": "7d38d515-2d1e-4cd8-abb6-cf8fda2ab0fd"
      },
      "execution_count": 15,
      "outputs": [
        {
          "output_type": "stream",
          "name": "stdout",
          "text": [
            "-----Comparing mean trip distance between different years-----\n",
            "Average trip_distance for 2009: 2.7632616000000003\n",
            "Average trip_distance for 2011: 2.7025320000000006\n",
            "Average trip_distance for 2019: 3.056714000000001\n",
            "Average trip_distance for 2020: 2.7089160000000003\n",
            "Average trip_distance for 2023: 5.415816000000001\n",
            "\n",
            "\n",
            "Shapiro-Wilk test for 2009: p-value = 0.7505270838737488 - NORMAL DISTRIBUTION\n",
            "Shapiro-Wilk test for 2011: p-value = 0.7694154977798462 - NORMAL DISTRIBUTION\n",
            "Shapiro-Wilk test for 2019: p-value = 0.7943426966667175 - NORMAL DISTRIBUTION\n",
            "Shapiro-Wilk test for 2020: p-value = 0.17768892645835876 - NORMAL DISTRIBUTION\n",
            "Shapiro-Wilk test for 2023: p-value = 5.006327894182678e-22 - NOT NORMAL DISTRIBUTION\n",
            "\n",
            "\n",
            "Levene's test: p-value = 0.3596341046298427 - EQUAL VARIANCE\n"
          ]
        },
        {
          "output_type": "display_data",
          "data": {
            "text/plain": [
              "<Figure size 640x480 with 1 Axes>"
            ],
            "image/png": "[encoded data removed]"
          },
          "metadata": {}
        }
      ]
    },
    {
      "cell_type": "code",
      "source": [
        "anova(boot_year,'year', 'trip_distance')"
      ],
      "metadata": {
        "id": "duLzil6YJsuB",
        "colab": {
          "base_uri": "https://localhost:8080/"
        },
        "outputId": "10fe88f1-9289-4d61-97d8-a38cdc2b0dca"
      },
      "execution_count": null,
      "outputs": [
        {
          "output_type": "stream",
          "name": "stdout",
          "text": [
            "The p-value for this ANOVA is: 0.11806889256390841\n"
          ]
        }
      ]
    },
    {
      "cell_type": "code",
      "source": [
        "anova_prep(all_years, boot_year.loc[boot_year['trip_distance']<100], 'year','trip_distance')"
      ],
      "metadata": {
        "colab": {
          "base_uri": "https://localhost:8080/",
          "height": 740
        },
        "id": "o-AytKGl4szn",
        "outputId": "8e97cd96-ffe8-46f2-b47e-f29282620cce"
      },
      "execution_count": 16,
      "outputs": [
        {
          "output_type": "stream",
          "name": "stdout",
          "text": [
            "Average trip_distance for 2009: 2.7632616000000003\n",
            "Average trip_distance for 2011: 2.7025320000000006\n",
            "Average trip_distance for 2019: 3.056714000000001\n",
            "Average trip_distance for 2020: 2.7089160000000003\n",
            "Average trip_distance for 2023: 3.486973737373738\n",
            "\n",
            "\n",
            "Shapiro-Wilk test for 2009: p-value = 0.7505270838737488 - NORMAL DISTRIBUTION\n",
            "Shapiro-Wilk test for 2011: p-value = 0.7694154977798462 - NORMAL DISTRIBUTION\n",
            "Shapiro-Wilk test for 2019: p-value = 0.7943426966667175 - NORMAL DISTRIBUTION\n",
            "Shapiro-Wilk test for 2020: p-value = 0.17768892645835876 - NORMAL DISTRIBUTION\n",
            "Shapiro-Wilk test for 2023: p-value = 0.11277982592582703 - NORMAL DISTRIBUTION\n",
            "\n",
            "\n",
            "Levene's test: p-value = 0.0070920753288886565 - NOT EQUAL VARIANCE\n"
          ]
        },
        {
          "output_type": "display_data",
          "data": {
            "text/plain": [
              "<Figure size 640x480 with 1 Axes>"
            ],
            "image/png": "[encoded data removed]"
          },
          "metadata": {}
        }
      ]
    },
    {
      "cell_type": "code",
      "source": [
        "pg.welch_anova(dv='trip_distance', between='year', data = boot_year.loc[boot_year['trip_distance']<100])"
      ],
      "metadata": {
        "colab": {
          "base_uri": "https://localhost:8080/",
          "height": 81
        },
        "id": "OeuvZ3td4-oR",
        "outputId": "fa9bc664-a34e-4f25-cd1c-95a245c156a6"
      },
      "execution_count": null,
      "outputs": [
        {
          "output_type": "execute_result",
          "data": {
            "text/plain": [
              "  Source  ddof1       ddof2         F         p-unc       np2\n",
              "0   year      4  246.092586  36.06891  1.027349e-23  0.250466"
            ],
            "text/html": [
              "\n",
              "  <div id=\"df-20b7e893-1653-420d-9d2a-45a046d244e9\" class=\"colab-df-container\">\n",
              "    <div>\n",
              "<style scoped>\n",
              "    .dataframe tbody tr th:only-of-type {\n",
              "        vertical-align: middle;\n",
              "    }\n",
              "\n",
              "    .dataframe tbody tr th {\n",
              "        vertical-align: top;\n",
              "    }\n",
              "\n",
              "    .dataframe thead th {\n",
              "        text-align: right;\n",
              "    }\n",
              "</style>\n",
              "<table border=\"1\" class=\"dataframe\">\n",
              "  <thead>\n",
              "    <tr style=\"text-align: right;\">\n",
              "      <th></th>\n",
              "      <th>Source</th>\n",
              "      <th>ddof1</th>\n",
              "      <th>ddof2</th>\n",
              "      <th>F</th>\n",
              "      <th>p-unc</th>\n",
              "      <th>np2</th>\n",
              "    </tr>\n",
              "  </thead>\n",
              "  <tbody>\n",
              "    <tr>\n",
              "      <th>0</th>\n",
              "      <td>year</td>\n",
              "      <td>4</td>\n",
              "      <td>246.092586</td>\n",
              "      <td>36.06891</td>\n",
              "      <td>1.027349e-23</td>\n",
              "      <td>0.250466</td>\n",
              "    </tr>\n",
              "  </tbody>\n",
              "</table>\n",
              "</div>\n",
              "    <div class=\"colab-df-buttons\">\n",
              "\n",
              "  <div class=\"colab-df-container\">\n",
              "    <button class=\"colab-df-convert\" onclick=\"convertToInteractive('df-20b7e893-1653-420d-9d2a-45a046d244e9')\"\n",
              "            title=\"Convert this dataframe to an interactive table.\"\n",
              "            style=\"display:none;\">\n",
              "\n",
              "  <svg xmlns=\"http://www.w3.org/2000/svg\" height=\"24px\" viewBox=\"0 -960 960 960\">\n",
              "    <path d=\"M120-120v-720h720v720H120Zm60-500h600v-160H180v160Zm220 220h160v-160H400v160Zm0 220h160v-160H400v160ZM180-400h160v-160H180v160Zm440 0h160v-160H620v160ZM180-180h160v-160H180v160Zm440 0h160v-160H620v160Z\"/>\n",
              "  </svg>\n",
              "    </button>\n",
              "\n",
              "  <style>\n",
              "    .colab-df-container {\n",
              "      display:flex;\n",
              "      gap: 12px;\n",
              "    }\n",
              "\n",
              "    .colab-df-convert {\n",
              "      background-color: #E8F0FE;\n",
              "      border: none;\n",
              "      border-radius: 50%;\n",
              "      cursor: pointer;\n",
              "      display: none;\n",
              "      fill: #1967D2;\n",
              "      height: 32px;\n",
              "      padding: 0 0 0 0;\n",
              "      width: 32px;\n",
              "    }\n",
              "\n",
              "    .colab-df-convert:hover {\n",
              "      background-color: #E2EBFA;\n",
              "      box-shadow: 0px 1px 2px rgba(60, 64, 67, 0.3), 0px 1px 3px 1px rgba(60, 64, 67, 0.15);\n",
              "      fill: #174EA6;\n",
              "    }\n",
              "\n",
              "    .colab-df-buttons div {\n",
              "      margin-bottom: 4px;\n",
              "    }\n",
              "\n",
              "    [theme=dark] .colab-df-convert {\n",
              "      background-color: #3B4455;\n",
              "      fill: #D2E3FC;\n",
              "    }\n",
              "\n",
              "    [theme=dark] .colab-df-convert:hover {\n",
              "      background-color: #434B5C;\n",
              "      box-shadow: 0px 1px 3px 1px rgba(0, 0, 0, 0.15);\n",
              "      filter: drop-shadow(0px 1px 2px rgba(0, 0, 0, 0.3));\n",
              "      fill: #FFFFFF;\n",
              "    }\n",
              "  </style>\n",
              "\n",
              "    <script>\n",
              "      const buttonEl =\n",
              "        document.querySelector('#df-20b7e893-1653-420d-9d2a-45a046d244e9 button.colab-df-convert');\n",
              "      buttonEl.style.display =\n",
              "        google.colab.kernel.accessAllowed ? 'block' : 'none';\n",
              "\n",
              "      async function convertToInteractive(key) {\n",
              "        const element = document.querySelector('#df-20b7e893-1653-420d-9d2a-45a046d244e9');\n",
              "        const dataTable =\n",
              "          await google.colab.kernel.invokeFunction('convertToInteractive',\n",
              "                                                    [key], {});\n",
              "        if (!dataTable) return;\n",
              "\n",
              "        const docLinkHtml = 'Like what you see? Visit the ' +\n",
              "          '<a target=\"_blank\" href=https://colab.research.google.com/notebooks/data_table.ipynb>data table notebook</a>'\n",
              "          + ' to learn more about interactive tables.';\n",
              "        element.innerHTML = '';\n",
              "        dataTable['output_type'] = 'display_data';\n",
              "        await google.colab.output.renderOutput(dataTable, element);\n",
              "        const docLink = document.createElement('div');\n",
              "        docLink.innerHTML = docLinkHtml;\n",
              "        element.appendChild(docLink);\n",
              "      }\n",
              "    </script>\n",
              "  </div>\n",
              "\n",
              "\n",
              "    </div>\n",
              "  </div>\n"
            ],
            "application/vnd.google.colaboratory.intrinsic+json": {
              "type": "dataframe",
              "summary": "{\n  \"name\": \"pg\",\n  \"rows\": 1,\n  \"fields\": [\n    {\n      \"column\": \"Source\",\n      \"properties\": {\n        \"dtype\": \"string\",\n        \"num_unique_values\": 1,\n        \"samples\": [\n          \"year\"\n        ],\n        \"semantic_type\": \"\",\n        \"description\": \"\"\n      }\n    },\n    {\n      \"column\": \"ddof1\",\n      \"properties\": {\n        \"dtype\": \"number\",\n        \"std\": null,\n        \"min\": 4,\n        \"max\": 4,\n        \"num_unique_values\": 1,\n        \"samples\": [\n          4\n        ],\n        \"semantic_type\": \"\",\n        \"description\": \"\"\n      }\n    },\n    {\n      \"column\": \"ddof2\",\n      \"properties\": {\n        \"dtype\": \"number\",\n        \"std\": null,\n        \"min\": 246.09258574345037,\n        \"max\": 246.09258574345037,\n        \"num_unique_values\": 1,\n        \"samples\": [\n          246.09258574345037\n        ],\n        \"semantic_type\": \"\",\n        \"description\": \"\"\n      }\n    },\n    {\n      \"column\": \"F\",\n      \"properties\": {\n        \"dtype\": \"number\",\n        \"std\": null,\n        \"min\": 36.06891022018459,\n        \"max\": 36.06891022018459,\n        \"num_unique_values\": 1,\n        \"samples\": [\n          36.06891022018459\n        ],\n        \"semantic_type\": \"\",\n        \"description\": \"\"\n      }\n    },\n    {\n      \"column\": \"p-unc\",\n      \"properties\": {\n        \"dtype\": \"number\",\n        \"std\": null,\n        \"min\": 1.0273485747902688e-23,\n        \"max\": 1.0273485747902688e-23,\n        \"num_unique_values\": 1,\n        \"samples\": [\n          1.0273485747902688e-23\n        ],\n        \"semantic_type\": \"\",\n        \"description\": \"\"\n      }\n    },\n    {\n      \"column\": \"np2\",\n      \"properties\": {\n        \"dtype\": \"number\",\n        \"std\": null,\n        \"min\": 0.2504656675647308,\n        \"max\": 0.2504656675647308,\n        \"num_unique_values\": 1,\n        \"samples\": [\n          0.2504656675647308\n        ],\n        \"semantic_type\": \"\",\n        \"description\": \"\"\n      }\n    }\n  ]\n}"
            }
          },
          "metadata": {},
          "execution_count": 20
        }
      ]
    },
    {
      "cell_type": "code",
      "source": [
        "pg.pairwise_gameshowell(data=boot_year.loc[boot_year['trip_distance']<100], dv='trip_distance',\n",
        "                        between='year').round(3)"
      ],
      "metadata": {
        "colab": {
          "base_uri": "https://localhost:8080/",
          "height": 363
        },
        "id": "QqWc0GFR6I8l",
        "outputId": "1c9dd409-db08-49cb-df4c-29ebd4429760"
      },
      "execution_count": null,
      "outputs": [
        {
          "output_type": "execute_result",
          "data": {
            "text/plain": [
              "      A     B  mean(A)  mean(B)   diff     se       T       df   pval  hedges\n",
              "0  2009  2011    2.763    2.703  0.061  0.066   0.926  196.359  0.886   0.131\n",
              "1  2009  2019    2.763    3.057 -0.293  0.076  -3.856  191.088  0.001  -0.543\n",
              "2  2009  2020    2.763    2.709  0.054  0.068   0.794  198.000  0.932   0.112\n",
              "3  2009  2023    2.763    3.487 -0.724  0.077  -9.376  188.069  0.000  -1.326\n",
              "4  2011  2019    2.703    3.057 -0.354  0.073  -4.820  183.909  0.000  -0.679\n",
              "5  2011  2020    2.703    2.709 -0.006  0.066  -0.097  196.382  1.000  -0.014\n",
              "6  2011  2023    2.703    3.487 -0.784  0.075 -10.515  180.380  0.000  -1.487\n",
              "7  2019  2020    3.057    2.709  0.348  0.076   4.571  191.043  0.000   0.644\n",
              "8  2019  2023    3.057    3.487 -0.430  0.084  -5.121  196.838  0.000  -0.723\n",
              "9  2020  2023    2.709    3.487 -0.778  0.077 -10.082  188.018  0.000  -1.426"
            ],
            "text/html": [
              "\n",
              "  <div id=\"df-e2711697-f72d-4b67-a5fc-9dae822cd0ce\" class=\"colab-df-container\">\n",
              "    <div>\n",
              "<style scoped>\n",
              "    .dataframe tbody tr th:only-of-type {\n",
              "        vertical-align: middle;\n",
              "    }\n",
              "\n",
              "    .dataframe tbody tr th {\n",
              "        vertical-align: top;\n",
              "    }\n",
              "\n",
              "    .dataframe thead th {\n",
              "        text-align: right;\n",
              "    }\n",
              "</style>\n",
              "<table border=\"1\" class=\"dataframe\">\n",
              "  <thead>\n",
              "    <tr style=\"text-align: right;\">\n",
              "      <th></th>\n",
              "      <th>A</th>\n",
              "      <th>B</th>\n",
              "      <th>mean(A)</th>\n",
              "      <th>mean(B)</th>\n",
              "      <th>diff</th>\n",
              "      <th>se</th>\n",
              "      <th>T</th>\n",
              "      <th>df</th>\n",
              "      <th>pval</th>\n",
              "      <th>hedges</th>\n",
              "    </tr>\n",
              "  </thead>\n",
              "  <tbody>\n",
              "    <tr>\n",
              "      <th>0</th>\n",
              "      <td>2009</td>\n",
              "      <td>2011</td>\n",
              "      <td>2.763</td>\n",
              "      <td>2.703</td>\n",
              "      <td>0.061</td>\n",
              "      <td>0.066</td>\n",
              "      <td>0.926</td>\n",
              "      <td>196.359</td>\n",
              "      <td>0.886</td>\n",
              "      <td>0.131</td>\n",
              "    </tr>\n",
              "    <tr>\n",
              "      <th>1</th>\n",
              "      <td>2009</td>\n",
              "      <td>2019</td>\n",
              "      <td>2.763</td>\n",
              "      <td>3.057</td>\n",
              "      <td>-0.293</td>\n",
              "      <td>0.076</td>\n",
              "      <td>-3.856</td>\n",
              "      <td>191.088</td>\n",
              "      <td>0.001</td>\n",
              "      <td>-0.543</td>\n",
              "    </tr>\n",
              "    <tr>\n",
              "      <th>2</th>\n",
              "      <td>2009</td>\n",
              "      <td>2020</td>\n",
              "      <td>2.763</td>\n",
              "      <td>2.709</td>\n",
              "      <td>0.054</td>\n",
              "      <td>0.068</td>\n",
              "      <td>0.794</td>\n",
              "      <td>198.000</td>\n",
              "      <td>0.932</td>\n",
              "      <td>0.112</td>\n",
              "    </tr>\n",
              "    <tr>\n",
              "      <th>3</th>\n",
              "      <td>2009</td>\n",
              "      <td>2023</td>\n",
              "      <td>2.763</td>\n",
              "      <td>3.487</td>\n",
              "      <td>-0.724</td>\n",
              "      <td>0.077</td>\n",
              "      <td>-9.376</td>\n",
              "      <td>188.069</td>\n",
              "      <td>0.000</td>\n",
              "      <td>-1.326</td>\n",
              "    </tr>\n",
              "    <tr>\n",
              "      <th>4</th>\n",
              "      <td>2011</td>\n",
              "      <td>2019</td>\n",
              "      <td>2.703</td>\n",
              "      <td>3.057</td>\n",
              "      <td>-0.354</td>\n",
              "      <td>0.073</td>\n",
              "      <td>-4.820</td>\n",
              "      <td>183.909</td>\n",
              "      <td>0.000</td>\n",
              "      <td>-0.679</td>\n",
              "    </tr>\n",
              "    <tr>\n",
              "      <th>5</th>\n",
              "      <td>2011</td>\n",
              "      <td>2020</td>\n",
              "      <td>2.703</td>\n",
              "      <td>2.709</td>\n",
              "      <td>-0.006</td>\n",
              "      <td>0.066</td>\n",
              "      <td>-0.097</td>\n",
              "      <td>196.382</td>\n",
              "      <td>1.000</td>\n",
              "      <td>-0.014</td>\n",
              "    </tr>\n",
              "    <tr>\n",
              "      <th>6</th>\n",
              "      <td>2011</td>\n",
              "      <td>2023</td>\n",
              "      <td>2.703</td>\n",
              "      <td>3.487</td>\n",
              "      <td>-0.784</td>\n",
              "      <td>0.075</td>\n",
              "      <td>-10.515</td>\n",
              "      <td>180.380</td>\n",
              "      <td>0.000</td>\n",
              "      <td>-1.487</td>\n",
              "    </tr>\n",
              "    <tr>\n",
              "      <th>7</th>\n",
              "      <td>2019</td>\n",
              "      <td>2020</td>\n",
              "      <td>3.057</td>\n",
              "      <td>2.709</td>\n",
              "      <td>0.348</td>\n",
              "      <td>0.076</td>\n",
              "      <td>4.571</td>\n",
              "      <td>191.043</td>\n",
              "      <td>0.000</td>\n",
              "      <td>0.644</td>\n",
              "    </tr>\n",
              "    <tr>\n",
              "      <th>8</th>\n",
              "      <td>2019</td>\n",
              "      <td>2023</td>\n",
              "      <td>3.057</td>\n",
              "      <td>3.487</td>\n",
              "      <td>-0.430</td>\n",
              "      <td>0.084</td>\n",
              "      <td>-5.121</td>\n",
              "      <td>196.838</td>\n",
              "      <td>0.000</td>\n",
              "      <td>-0.723</td>\n",
              "    </tr>\n",
              "    <tr>\n",
              "      <th>9</th>\n",
              "      <td>2020</td>\n",
              "      <td>2023</td>\n",
              "      <td>2.709</td>\n",
              "      <td>3.487</td>\n",
              "      <td>-0.778</td>\n",
              "      <td>0.077</td>\n",
              "      <td>-10.082</td>\n",
              "      <td>188.018</td>\n",
              "      <td>0.000</td>\n",
              "      <td>-1.426</td>\n",
              "    </tr>\n",
              "  </tbody>\n",
              "</table>\n",
              "</div>\n",
              "    <div class=\"colab-df-buttons\">\n",
              "\n",
              "  <div class=\"colab-df-container\">\n",
              "    <button class=\"colab-df-convert\" onclick=\"convertToInteractive('df-e2711697-f72d-4b67-a5fc-9dae822cd0ce')\"\n",
              "            title=\"Convert this dataframe to an interactive table.\"\n",
              "            style=\"display:none;\">\n",
              "\n",
              "  <svg xmlns=\"http://www.w3.org/2000/svg\" height=\"24px\" viewBox=\"0 -960 960 960\">\n",
              "    <path d=\"M120-120v-720h720v720H120Zm60-500h600v-160H180v160Zm220 220h160v-160H400v160Zm0 220h160v-160H400v160ZM180-400h160v-160H180v160Zm440 0h160v-160H620v160ZM180-180h160v-160H180v160Zm440 0h160v-160H620v160Z\"/>\n",
              "  </svg>\n",
              "    </button>\n",
              "\n",
              "  <style>\n",
              "    .colab-df-container {\n",
              "      display:flex;\n",
              "      gap: 12px;\n",
              "    }\n",
              "\n",
              "    .colab-df-convert {\n",
              "      background-color: #E8F0FE;\n",
              "      border: none;\n",
              "      border-radius: 50%;\n",
              "      cursor: pointer;\n",
              "      display: none;\n",
              "      fill: #1967D2;\n",
              "      height: 32px;\n",
              "      padding: 0 0 0 0;\n",
              "      width: 32px;\n",
              "    }\n",
              "\n",
              "    .colab-df-convert:hover {\n",
              "      background-color: #E2EBFA;\n",
              "      box-shadow: 0px 1px 2px rgba(60, 64, 67, 0.3), 0px 1px 3px 1px rgba(60, 64, 67, 0.15);\n",
              "      fill: #174EA6;\n",
              "    }\n",
              "\n",
              "    .colab-df-buttons div {\n",
              "      margin-bottom: 4px;\n",
              "    }\n",
              "\n",
              "    [theme=dark] .colab-df-convert {\n",
              "      background-color: #3B4455;\n",
              "      fill: #D2E3FC;\n",
              "    }\n",
              "\n",
              "    [theme=dark] .colab-df-convert:hover {\n",
              "      background-color: #434B5C;\n",
              "      box-shadow: 0px 1px 3px 1px rgba(0, 0, 0, 0.15);\n",
              "      filter: drop-shadow(0px 1px 2px rgba(0, 0, 0, 0.3));\n",
              "      fill: #FFFFFF;\n",
              "    }\n",
              "  </style>\n",
              "\n",
              "    <script>\n",
              "      const buttonEl =\n",
              "        document.querySelector('#df-e2711697-f72d-4b67-a5fc-9dae822cd0ce button.colab-df-convert');\n",
              "      buttonEl.style.display =\n",
              "        google.colab.kernel.accessAllowed ? 'block' : 'none';\n",
              "\n",
              "      async function convertToInteractive(key) {\n",
              "        const element = document.querySelector('#df-e2711697-f72d-4b67-a5fc-9dae822cd0ce');\n",
              "        const dataTable =\n",
              "          await google.colab.kernel.invokeFunction('convertToInteractive',\n",
              "                                                    [key], {});\n",
              "        if (!dataTable) return;\n",
              "\n",
              "        const docLinkHtml = 'Like what you see? Visit the ' +\n",
              "          '<a target=\"_blank\" href=https://colab.research.google.com/notebooks/data_table.ipynb>data table notebook</a>'\n",
              "          + ' to learn more about interactive tables.';\n",
              "        element.innerHTML = '';\n",
              "        dataTable['output_type'] = 'display_data';\n",
              "        await google.colab.output.renderOutput(dataTable, element);\n",
              "        const docLink = document.createElement('div');\n",
              "        docLink.innerHTML = docLinkHtml;\n",
              "        element.appendChild(docLink);\n",
              "      }\n",
              "    </script>\n",
              "  </div>\n",
              "\n",
              "\n",
              "<div id=\"df-3133a11c-3d38-4530-8dab-40dde401d801\">\n",
              "  <button class=\"colab-df-quickchart\" onclick=\"quickchart('df-3133a11c-3d38-4530-8dab-40dde401d801')\"\n",
              "            title=\"Suggest charts\"\n",
              "            style=\"display:none;\">\n",
              "\n",
              "<svg xmlns=\"http://www.w3.org/2000/svg\" height=\"24px\"viewBox=\"0 0 24 24\"\n",
              "     width=\"24px\">\n",
              "    <g>\n",
              "        <path d=\"M19 3H5c-1.1 0-2 .9-2 2v14c0 1.1.9 2 2 2h14c1.1 0 2-.9 2-2V5c0-1.1-.9-2-2-2zM9 17H7v-7h2v7zm4 0h-2V7h2v10zm4 0h-2v-4h2v4z\"/>\n",
              "    </g>\n",
              "</svg>\n",
              "  </button>\n",
              "\n",
              "<style>\n",
              "  .colab-df-quickchart {\n",
              "      --bg-color: #E8F0FE;\n",
              "      --fill-color: #1967D2;\n",
              "      --hover-bg-color: #E2EBFA;\n",
              "      --hover-fill-color: #174EA6;\n",
              "      --disabled-fill-color: #AAA;\n",
              "      --disabled-bg-color: #DDD;\n",
              "  }\n",
              "\n",
              "  [theme=dark] .colab-df-quickchart {\n",
              "      --bg-color: #3B4455;\n",
              "      --fill-color: #D2E3FC;\n",
              "      --hover-bg-color: #434B5C;\n",
              "      --hover-fill-color: #FFFFFF;\n",
              "      --disabled-bg-color: #3B4455;\n",
              "      --disabled-fill-color: #666;\n",
              "  }\n",
              "\n",
              "  .colab-df-quickchart {\n",
              "    background-color: var(--bg-color);\n",
              "    border: none;\n",
              "    border-radius: 50%;\n",
              "    cursor: pointer;\n",
              "    display: none;\n",
              "    fill: var(--fill-color);\n",
              "    height: 32px;\n",
              "    padding: 0;\n",
              "    width: 32px;\n",
              "  }\n",
              "\n",
              "  .colab-df-quickchart:hover {\n",
              "    background-color: var(--hover-bg-color);\n",
              "    box-shadow: 0 1px 2px rgba(60, 64, 67, 0.3), 0 1px 3px 1px rgba(60, 64, 67, 0.15);\n",
              "    fill: var(--button-hover-fill-color);\n",
              "  }\n",
              "\n",
              "  .colab-df-quickchart-complete:disabled,\n",
              "  .colab-df-quickchart-complete:disabled:hover {\n",
              "    background-color: var(--disabled-bg-color);\n",
              "    fill: var(--disabled-fill-color);\n",
              "    box-shadow: none;\n",
              "  }\n",
              "\n",
              "  .colab-df-spinner {\n",
              "    border: 2px solid var(--fill-color);\n",
              "    border-color: transparent;\n",
              "    border-bottom-color: var(--fill-color);\n",
              "    animation:\n",
              "      spin 1s steps(1) infinite;\n",
              "  }\n",
              "\n",
              "  @keyframes spin {\n",
              "    0% {\n",
              "      border-color: transparent;\n",
              "      border-bottom-color: var(--fill-color);\n",
              "      border-left-color: var(--fill-color);\n",
              "    }\n",
              "    20% {\n",
              "      border-color: transparent;\n",
              "      border-left-color: var(--fill-color);\n",
              "      border-top-color: var(--fill-color);\n",
              "    }\n",
              "    30% {\n",
              "      border-color: transparent;\n",
              "      border-left-color: var(--fill-color);\n",
              "      border-top-color: var(--fill-color);\n",
              "      border-right-color: var(--fill-color);\n",
              "    }\n",
              "    40% {\n",
              "      border-color: transparent;\n",
              "      border-right-color: var(--fill-color);\n",
              "      border-top-color: var(--fill-color);\n",
              "    }\n",
              "    60% {\n",
              "      border-color: transparent;\n",
              "      border-right-color: var(--fill-color);\n",
              "    }\n",
              "    80% {\n",
              "      border-color: transparent;\n",
              "      border-right-color: var(--fill-color);\n",
              "      border-bottom-color: var(--fill-color);\n",
              "    }\n",
              "    90% {\n",
              "      border-color: transparent;\n",
              "      border-bottom-color: var(--fill-color);\n",
              "    }\n",
              "  }\n",
              "</style>\n",
              "\n",
              "  <script>\n",
              "    async function quickchart(key) {\n",
              "      const quickchartButtonEl =\n",
              "        document.querySelector('#' + key + ' button');\n",
              "      quickchartButtonEl.disabled = true;  // To prevent multiple clicks.\n",
              "      quickchartButtonEl.classList.add('colab-df-spinner');\n",
              "      try {\n",
              "        const charts = await google.colab.kernel.invokeFunction(\n",
              "            'suggestCharts', [key], {});\n",
              "      } catch (error) {\n",
              "        console.error('Error during call to suggestCharts:', error);\n",
              "      }\n",
              "      quickchartButtonEl.classList.remove('colab-df-spinner');\n",
              "      quickchartButtonEl.classList.add('colab-df-quickchart-complete');\n",
              "    }\n",
              "    (() => {\n",
              "      let quickchartButtonEl =\n",
              "        document.querySelector('#df-3133a11c-3d38-4530-8dab-40dde401d801 button');\n",
              "      quickchartButtonEl.style.display =\n",
              "        google.colab.kernel.accessAllowed ? 'block' : 'none';\n",
              "    })();\n",
              "  </script>\n",
              "</div>\n",
              "\n",
              "    </div>\n",
              "  </div>\n"
            ],
            "application/vnd.google.colaboratory.intrinsic+json": {
              "type": "dataframe",
              "summary": "{\n  \"name\": \"                        between='year')\",\n  \"rows\": 10,\n  \"fields\": [\n    {\n      \"column\": \"A\",\n      \"properties\": {\n        \"dtype\": \"number\",\n        \"std\": 4,\n        \"min\": 2009,\n        \"max\": 2020,\n        \"num_unique_values\": 4,\n        \"samples\": [\n          2011,\n          2020,\n          2009\n        ],\n        \"semantic_type\": \"\",\n        \"description\": \"\"\n      }\n    },\n    {\n      \"column\": \"B\",\n      \"properties\": {\n        \"dtype\": \"number\",\n        \"std\": 3,\n        \"min\": 2011,\n        \"max\": 2023,\n        \"num_unique_values\": 4,\n        \"samples\": [\n          2019,\n          2023,\n          2011\n        ],\n        \"semantic_type\": \"\",\n        \"description\": \"\"\n      }\n    },\n    {\n      \"column\": \"mean(A)\",\n      \"properties\": {\n        \"dtype\": \"number\",\n        \"std\": 0.13906689038013326,\n        \"min\": 2.703,\n        \"max\": 3.057,\n        \"num_unique_values\": 4,\n        \"samples\": [\n          2.703,\n          2.709,\n          2.763\n        ],\n        \"semantic_type\": \"\",\n        \"description\": \"\"\n      }\n    },\n    {\n      \"column\": \"mean(B)\",\n      \"properties\": {\n        \"dtype\": \"number\",\n        \"std\": 0.3678555876065136,\n        \"min\": 2.703,\n        \"max\": 3.487,\n        \"num_unique_values\": 4,\n        \"samples\": [\n          3.057,\n          3.487,\n          2.703\n        ],\n        \"semantic_type\": \"\",\n        \"description\": \"\"\n      }\n    },\n    {\n      \"column\": \"diff\",\n      \"properties\": {\n        \"dtype\": \"number\",\n        \"std\": 0.3976981546628325,\n        \"min\": -0.784,\n        \"max\": 0.348,\n        \"num_unique_values\": 10,\n        \"samples\": [\n          -0.43,\n          -0.293,\n          -0.006\n        ],\n        \"semantic_type\": \"\",\n        \"description\": \"\"\n      }\n    },\n    {\n      \"column\": \"se\",\n      \"properties\": {\n        \"dtype\": \"number\",\n        \"std\": 0.0056920997883030825,\n        \"min\": 0.066,\n        \"max\": 0.084,\n        \"num_unique_values\": 7,\n        \"samples\": [\n          0.066,\n          0.076,\n          0.075\n        ],\n        \"semantic_type\": \"\",\n        \"description\": \"\"\n      }\n    },\n    {\n      \"column\": \"T\",\n      \"properties\": {\n        \"dtype\": \"number\",\n        \"std\": 5.224332880324956,\n        \"min\": -10.515,\n        \"max\": 4.571,\n        \"num_unique_values\": 10,\n        \"samples\": [\n          -5.121,\n          -3.856,\n          -0.097\n        ],\n        \"semantic_type\": \"\",\n        \"description\": \"\"\n      }\n    },\n    {\n      \"column\": \"df\",\n      \"properties\": {\n        \"dtype\": \"number\",\n        \"std\": 5.975186360645539,\n        \"min\": 180.38,\n        \"max\": 198.0,\n        \"num_unique_values\": 10,\n        \"samples\": [\n          196.838,\n          191.088,\n          196.382\n        ],\n        \"semantic_type\": \"\",\n        \"description\": \"\"\n      }\n    },\n    {\n      \"column\": \"pval\",\n      \"properties\": {\n        \"dtype\": \"number\",\n        \"std\": 0.4544770987996352,\n        \"min\": 0.0,\n        \"max\": 1.0,\n        \"num_unique_values\": 5,\n        \"samples\": [\n          0.001,\n          1.0,\n          0.932\n        ],\n        \"semantic_type\": \"\",\n        \"description\": \"\"\n      }\n    },\n    {\n      \"column\": \"hedges\",\n      \"properties\": {\n        \"dtype\": \"number\",\n        \"std\": 0.7382791477483297,\n        \"min\": -1.487,\n        \"max\": 0.644,\n        \"num_unique_values\": 10,\n        \"samples\": [\n          -0.723,\n          -0.543,\n          -0.014\n        ],\n        \"semantic_type\": \"\",\n        \"description\": \"\"\n      }\n    }\n  ]\n}"
            }
          },
          "metadata": {},
          "execution_count": 21
        }
      ]
    },
    {
      "cell_type": "markdown",
      "source": [
        "Results for trip_distance~year has two different results. When keeping the outlier in year 2023, the assumption of normality passes for all years expect 2023, but equal variance passes. But, standard ANOVA shows no significant difference. However, when the outlier is removed, all groups are normal but equal variance is not satisfied anymore. We can still perform Welches ANOVA and Games Howell post hoc testing to work around the unequal variance. Using these methods, then there are differences between 2009 and 2019, 2009 and 2023, 2011 and 2019, 2011 and 2023, 2019 and 2020, 2019 and 2023 and 2020 and 2023."
      ],
      "metadata": {
        "id": "A0rDgvbC0Jy8"
      }
    },
    {
      "cell_type": "code",
      "source": [
        "print(f\"-----Comparing mean tip percentage between different seasons-----\")\n",
        "anova_prep(all_seasons, boot_season, 'season','tip_percentage')"
      ],
      "metadata": {
        "id": "K-jpF2ZWKDa8",
        "colab": {
          "base_uri": "https://localhost:8080/",
          "height": 722
        },
        "outputId": "94e798af-f379-415f-a7f0-caf83439c25f"
      },
      "execution_count": 17,
      "outputs": [
        {
          "output_type": "stream",
          "name": "stdout",
          "text": [
            "-----Comparing mean tip percentage between different seasons-----\n",
            "Average tip_percentage for Winter: 14.869510910238349\n",
            "Average tip_percentage for Spring: 14.092382968882564\n",
            "Average tip_percentage for Summer: 13.667428578580846\n",
            "Average tip_percentage for Fall: 14.729505587084196\n",
            "\n",
            "\n",
            "Shapiro-Wilk test for Winter: p-value = 1.1608616982366728e-16 - NOT NORMAL DISTRIBUTION\n",
            "Shapiro-Wilk test for Spring: p-value = 0.0014926822623237967 - NOT NORMAL DISTRIBUTION\n",
            "Shapiro-Wilk test for Summer: p-value = 0.42162081599235535 - NORMAL DISTRIBUTION\n",
            "Shapiro-Wilk test for Fall: p-value = 0.36453989148139954 - NORMAL DISTRIBUTION\n",
            "\n",
            "\n",
            "Levene's test: p-value = 0.06539379880796205 - EQUAL VARIANCE\n"
          ]
        },
        {
          "output_type": "display_data",
          "data": {
            "text/plain": [
              "<Figure size 640x480 with 1 Axes>"
            ],
            "image/png": "[encoded data removed]"
          },
          "metadata": {}
        }
      ]
    },
    {
      "cell_type": "code",
      "source": [
        "anova(boot_season,'season', 'tip_percentage')"
      ],
      "metadata": {
        "id": "PgJ-NNfCKTdN",
        "colab": {
          "base_uri": "https://localhost:8080/"
        },
        "outputId": "4a519467-7dbc-4a15-9742-dbc33ee75be1"
      },
      "execution_count": null,
      "outputs": [
        {
          "output_type": "stream",
          "name": "stdout",
          "text": [
            "The p-value for this ANOVA is: 0.04085001597541704\n",
            "REJECT null hypothesis \n",
            "\n",
            "Post hoc testing: Tukey\n",
            "Multiple Comparison of Means - Tukey HSD, FWER=0.05\n",
            "===================================================\n",
            "group1 group2 meandiff p-adj   lower  upper  reject\n",
            "---------------------------------------------------\n",
            "  Fall Spring  -0.6371 0.5393 -1.8657 0.5915  False\n",
            "  Fall Summer  -1.0621 0.1169 -2.2907 0.1665  False\n",
            "  Fall Winter     0.14 0.9911 -1.0886 1.3686  False\n",
            "Spring Summer   -0.425 0.8088 -1.6536 0.8037  False\n",
            "Spring Winter   0.7771 0.3619 -0.4515 2.0058  False\n",
            "Summer Winter   1.2021 0.0578 -0.0265 2.4307  False\n",
            "---------------------------------------------------\n"
          ]
        }
      ]
    },
    {
      "cell_type": "markdown",
      "source": [
        "Results for tip_percentage~season is no significant difference exists despite anova rejecting the null hypothesis."
      ],
      "metadata": {
        "id": "fjJlpGf93H0d"
      }
    },
    {
      "cell_type": "code",
      "source": [
        "print(f\"-----Comparing mean trip distance between different seasons-----\")\n",
        "anova_prep(all_seasons, boot_season, 'season','trip_distance')"
      ],
      "metadata": {
        "id": "6pF1KCozLw0h",
        "colab": {
          "base_uri": "https://localhost:8080/",
          "height": 722
        },
        "outputId": "a424ad7a-ea57-4ebc-b93e-68a15410665b"
      },
      "execution_count": 18,
      "outputs": [
        {
          "output_type": "stream",
          "name": "stdout",
          "text": [
            "-----Comparing mean trip distance between different seasons-----\n",
            "Average trip_distance for Winter: 2.799995599999999\n",
            "Average trip_distance for Spring: 2.907554\n",
            "Average trip_distance for Summer: 3.0598800000000006\n",
            "Average trip_distance for Fall: 2.945122\n",
            "\n",
            "\n",
            "Shapiro-Wilk test for Winter: p-value = 0.5952171683311462 - NORMAL DISTRIBUTION\n",
            "Shapiro-Wilk test for Spring: p-value = 0.4095456898212433 - NORMAL DISTRIBUTION\n",
            "Shapiro-Wilk test for Summer: p-value = 0.10403987020254135 - NORMAL DISTRIBUTION\n",
            "Shapiro-Wilk test for Fall: p-value = 0.2338414341211319 - NORMAL DISTRIBUTION\n",
            "\n",
            "\n",
            "Levene's test: p-value = 0.8507725983875268 - EQUAL VARIANCE\n"
          ]
        },
        {
          "output_type": "display_data",
          "data": {
            "text/plain": [
              "<Figure size 640x480 with 1 Axes>"
            ],
            "image/png": "[encoded data removed]"
          },
          "metadata": {}
        }
      ]
    },
    {
      "cell_type": "code",
      "source": [
        "anova(boot_season,'season', 'trip_distance')"
      ],
      "metadata": {
        "id": "m6GBV6YMMP7w",
        "colab": {
          "base_uri": "https://localhost:8080/"
        },
        "outputId": "e46fd522-9bc5-4127-c9fe-bd2c4b1a9110"
      },
      "execution_count": null,
      "outputs": [
        {
          "output_type": "stream",
          "name": "stdout",
          "text": [
            "The p-value for this ANOVA is: 0.004028462170968851\n",
            "REJECT null hypothesis \n",
            "\n",
            "Post hoc testing: Tukey\n",
            "Multiple Comparison of Means - Tukey HSD, FWER=0.05 \n",
            "====================================================\n",
            "group1 group2 meandiff p-adj   lower   upper  reject\n",
            "----------------------------------------------------\n",
            "  Fall Spring  -0.0376 0.9528 -0.2219  0.1468  False\n",
            "  Fall Summer   0.1148 0.3764 -0.0696  0.2991  False\n",
            "  Fall Winter  -0.1451 0.1783 -0.3295  0.0392  False\n",
            "Spring Summer   0.1523 0.1448  -0.032  0.3367  False\n",
            "Spring Winter  -0.1076 0.4353 -0.2919  0.0768  False\n",
            "Summer Winter  -0.2599 0.0018 -0.4442 -0.0755   True\n",
            "----------------------------------------------------\n"
          ]
        }
      ]
    },
    {
      "cell_type": "markdown",
      "source": [
        "Results for trip_distance~season is difference between Summer and Winter"
      ],
      "metadata": {
        "id": "Lw81PmW7MtEl"
      }
    },
    {
      "cell_type": "code",
      "source": [
        "print(f\"-----Comparing mean tip_percentage between passengers-----\")\n",
        "anova_prep(all_passengers, boot_passenger, 'passenger_multiple','tip_percentage')"
      ],
      "metadata": {
        "id": "TXak8--hNCI_",
        "colab": {
          "base_uri": "https://localhost:8080/",
          "height": 651
        },
        "outputId": "6f42dddb-a4b0-4440-a962-4b91a04eb973"
      },
      "execution_count": 19,
      "outputs": [
        {
          "output_type": "stream",
          "name": "stdout",
          "text": [
            "-----Comparing mean tip_percentage between passengers-----\n",
            "Average tip_percentage for Single: 14.195197297311665\n",
            "Average tip_percentage for Multiple: 12.460247803785194\n",
            "\n",
            "\n",
            "Shapiro-Wilk test for Single: p-value = 0.11459696292877197 - NORMAL DISTRIBUTION\n",
            "Shapiro-Wilk test for Multiple: p-value = 0.4726209342479706 - NORMAL DISTRIBUTION\n",
            "\n",
            "\n",
            "Levene's test: p-value = 0.7458489433681876 - EQUAL VARIANCE\n"
          ]
        },
        {
          "output_type": "display_data",
          "data": {
            "text/plain": [
              "<Figure size 640x480 with 1 Axes>"
            ],
            "image/png": "[encoded data removed]"
          },
          "metadata": {}
        }
      ]
    },
    {
      "cell_type": "code",
      "source": [
        "anova(boot_passenger,'passenger_multiple', 'tip_percentage')"
      ],
      "metadata": {
        "id": "l5VCy4DuNq-h",
        "colab": {
          "base_uri": "https://localhost:8080/"
        },
        "outputId": "e1b8f8f6-fee6-4634-b913-a66eb1e0ded9"
      },
      "execution_count": null,
      "outputs": [
        {
          "output_type": "stream",
          "name": "stdout",
          "text": [
            "The p-value for this ANOVA is: 3.505711628615281e-09\n",
            "REJECT null hypothesis \n",
            "\n",
            "Post hoc testing: Tukey\n",
            "Multiple Comparison of Means - Tukey HSD, FWER=0.05\n",
            "===================================================\n",
            " group1  group2 meandiff p-adj lower  upper  reject\n",
            "---------------------------------------------------\n",
            "Multiple Single   1.7349   0.0 1.1817 2.2882   True\n",
            "---------------------------------------------------\n"
          ]
        }
      ]
    },
    {
      "cell_type": "markdown",
      "source": [
        "Results for tip_percentage~passenger are that there is a difference in between single and multiple passenger."
      ],
      "metadata": {
        "id": "tLcfujrPNza0"
      }
    },
    {
      "cell_type": "code",
      "source": [
        "print(f\"-----Comparing mean trip_distance between passengers-----\")\n",
        "anova_prep(all_passengers, boot_passenger, 'passenger_multiple','trip_distance')"
      ],
      "metadata": {
        "id": "xbhV30MhOlHc",
        "colab": {
          "base_uri": "https://localhost:8080/",
          "height": 651
        },
        "outputId": "22b4b073-8d38-438d-e346-8fdd4ac696ed"
      },
      "execution_count": 20,
      "outputs": [
        {
          "output_type": "stream",
          "name": "stdout",
          "text": [
            "-----Comparing mean trip_distance between passengers-----\n",
            "Average trip_distance for Single: 2.9801839999999995\n",
            "Average trip_distance for Multiple: 3.1545240000000003\n",
            "\n",
            "\n",
            "Shapiro-Wilk test for Single: p-value = 0.0846630409359932 - NORMAL DISTRIBUTION\n",
            "Shapiro-Wilk test for Multiple: p-value = 0.1822061985731125 - NORMAL DISTRIBUTION\n",
            "\n",
            "\n",
            "Levene's test: p-value = 0.7259526509050797 - EQUAL VARIANCE\n"
          ]
        },
        {
          "output_type": "display_data",
          "data": {
            "text/plain": [
              "<Figure size 640x480 with 1 Axes>"
            ],
            "image/png": "[encoded data removed]"
          },
          "metadata": {}
        }
      ]
    },
    {
      "cell_type": "code",
      "source": [
        "anova(boot_passenger,'passenger_multiple', 'trip_distance')"
      ],
      "metadata": {
        "id": "VaL_C_-ROuNM",
        "colab": {
          "base_uri": "https://localhost:8080/"
        },
        "outputId": "9973420e-f343-455e-f9b3-3ee54f3f6ee2"
      },
      "execution_count": null,
      "outputs": [
        {
          "output_type": "stream",
          "name": "stdout",
          "text": [
            "The p-value for this ANOVA is: 0.0450121486872123\n",
            "REJECT null hypothesis \n",
            "\n",
            "Post hoc testing: Tukey\n",
            " Multiple Comparison of Means - Tukey HSD, FWER=0.05 \n",
            "=====================================================\n",
            " group1  group2 meandiff p-adj  lower   upper  reject\n",
            "-----------------------------------------------------\n",
            "Multiple Single  -0.1743 0.045 -0.3448 -0.0039   True\n",
            "-----------------------------------------------------\n"
          ]
        }
      ]
    },
    {
      "cell_type": "markdown",
      "source": [
        "The results for trip_distance~passenger is that there is a difference."
      ],
      "metadata": {
        "id": "93ANk3D2PEHO"
      }
    },
    {
      "cell_type": "markdown",
      "source": [],
      "metadata": {
        "id": "_CLFo6-Z-1UF"
      }
    }
  ]
}